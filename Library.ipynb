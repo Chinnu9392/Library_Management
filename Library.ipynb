{
 "cells": [
  {
   "cell_type": "code",
   "execution_count": 170,
   "id": "97cf73af",
   "metadata": {},
   "outputs": [],
   "source": [
    "from datetime import *\n",
    "class Book:\n",
    "    def __init__(self,title,author,bookid):\n",
    "        self.author=author\n",
    "        self.title=title\n",
    "        self.bookid=bookid\n",
    "        self.available=True\n",
    "        self.borrowed=None\n",
    "    def borrow(self,member):\n",
    "        if self.available:\n",
    "            self.available=False\n",
    "            self.borrowed=member\n",
    "            print(f\"{member.name} borrowed {self.title} by {self.author}\")\n",
    "        else:\n",
    "             print(f\"{self.title} has already borrowed\")\n",
    "    def return_book(self):\n",
    "        if not self.available:\n",
    "            self.available = True\n",
    "            self.borrowed = None\n",
    "            print(f\"{self.title} returned\")\n",
    "        else:\n",
    "            print(f\"{self.title} is already available\")\n",
    "    def check_availability(self):\n",
    "        return self.available\n",
    "\n",
    "class Member:\n",
    "    def __init__(self, name, memberid):\n",
    "        self.name = name\n",
    "        self.memberid = memberid\n",
    "        self.subscription_active=False\n",
    "        self.subscriptiom_expire=None\n",
    "        self.borrowed_books = set()\n",
    "        \n",
    "    def borrow_book(self, book):\n",
    "        if len(self.borrowed_books) < 4:\n",
    "            book.borrow(self)\n",
    "            self.borrowed_books.add(book.title)\n",
    "        else:\n",
    "            print(f\"{self.name} have already reaches the maximum books of 4\")\n",
    "    \n",
    "    def return_book(self, book):\n",
    "        if book in self.borrowed_books:\n",
    "            book.return_book()\n",
    "            self.borrowed_books.remove(book)\n",
    "        else:\n",
    "            print(f\"{self.name} didn't borrow {book.title}\")\n",
    "    \n",
    "    def get_borrowed_books(self):\n",
    "        return self.borrowed_books\n",
    "    def set_subscription(self):\n",
    "        self.subscription_active=True\n",
    "        self.subscription_expire = date(2026,12,31)\n",
    "        print(f\"{self.name}'s subscription is active\")\n",
    "    def check_subscription(self):\n",
    "        today=date.today()\n",
    "        if self.subscription_active and self.subscription_expire > today:\n",
    "            return True\n",
    "        return False\n",
    "class Library:\n",
    "    def __init__(self):\n",
    "        self.books = []\n",
    "        self.members = []\n",
    "\n",
    "    def add_book(self, book):\n",
    "        self.books.append(book)\n",
    "\n",
    "    def issue_book(self, book, member):\n",
    "        if member.check_subscription():\n",
    "            member.borrow_book(book)\n",
    "        else:\n",
    "            print(\"NO subscription\")\n",
    "\n",
    "    def return_book(self, book,member):\n",
    "        member.return_book(book)\n",
    "\n",
    "    def get_available_books(self):\n",
    "        a=[]\n",
    "        for book in self.books:\n",
    "            if book.available:\n",
    "                a.append(book.title)\n",
    "        return a\n",
    "\n",
    "    def get_member_detail(self, member_id):\n",
    "        for member in self.members:\n",
    "            if member.memberid == member_id:\n",
    "                return member.name\n",
    "        return None\n",
    "    def get_subscribed_members(self):\n",
    "        a=[]\n",
    "        for member in self.members:\n",
    "            if member.check_subscription():\n",
    "                a.append(member.name)\n",
    "        return a\n",
    "\n",
    "lib=Library()\n",
    "lib.add_book(Book(\"Python\", \"Luciano Ramalho\", \"0547928227\"))\n",
    "lib.add_book(Book(\"Java\", \"Bert Bates\", \"0345391822\"))\n",
    "lib.add_book(Book(\"C\", \"Brian Kernighan\", \"0788227227\"))\n",
    "lib.add_book(Book(\"DBMS\", \"Raghu Ramakrishnan\", \"093727271822\"))\n",
    "lib.add_book(Book(\"computer networks\", \"Andrew\", \"05479989827\"))\n",
    "lib.add_book(Book(\"Automations\", \"Rizwan Ahmed\", \"0345898825322\"))\n",
    "        \n",
    "lib.members.append(Member(\"Ajay\", \"1234\"))\n",
    "lib.members.append(Member(\"Bhanu\", \"5678\"))\n",
    "lib.members.append(Member(\"Sam\", \"1094\"))\n",
    "lib.members.append(Member(\"Raju\", \"5434\"))\n",
    "lib.members.append(Member(\"Prakash\", \"9065\"))\n",
    "lib.members.append(Member(\"SivaRam\", \"6735\"))\n"
   ]
  },
  {
   "cell_type": "code",
   "execution_count": 171,
   "id": "e57b3dac",
   "metadata": {},
   "outputs": [
    {
     "name": "stdout",
     "output_type": "stream",
     "text": [
      "Ajay's subscription is active\n"
     ]
    }
   ],
   "source": [
    "member = lib.members[0]\n",
    "member.set_subscription()"
   ]
  },
  {
   "cell_type": "code",
   "execution_count": 172,
   "id": "a0d93f6f",
   "metadata": {},
   "outputs": [
    {
     "name": "stdout",
     "output_type": "stream",
     "text": [
      "Ajay borrowed Python by Luciano Ramalho\n"
     ]
    }
   ],
   "source": [
    "lib.issue_book(lib.books[0], lib.members[0])"
   ]
  },
  {
   "cell_type": "code",
   "execution_count": 173,
   "id": "698eaf03",
   "metadata": {},
   "outputs": [
    {
     "name": "stdout",
     "output_type": "stream",
     "text": [
      "Bhanu's subscription is active\n",
      "Prakash's subscription is active\n"
     ]
    }
   ],
   "source": [
    "member = lib.members[1]\n",
    "member.set_subscription()\n",
    "member = lib.members[4]\n",
    "member.set_subscription()"
   ]
  },
  {
   "cell_type": "code",
   "execution_count": 174,
   "id": "b0aae571",
   "metadata": {},
   "outputs": [
    {
     "data": {
      "text/plain": [
       "['Ajay', 'Bhanu', 'Prakash']"
      ]
     },
     "execution_count": 174,
     "metadata": {},
     "output_type": "execute_result"
    }
   ],
   "source": [
    "lib.get_subscribed_members()"
   ]
  },
  {
   "cell_type": "code",
   "execution_count": 175,
   "id": "9896d47c",
   "metadata": {},
   "outputs": [
    {
     "name": "stdout",
     "output_type": "stream",
     "text": [
      "Bhanu borrowed Java by Bert Bates\n",
      "NO subscription\n",
      "NO subscription\n",
      "Prakash borrowed computer networks by Andrew\n",
      "NO subscription\n"
     ]
    }
   ],
   "source": [
    "lib.issue_book(lib.books[1], lib.members[1])\n",
    "lib.issue_book(lib.books[2], lib.members[2])\n",
    "lib.issue_book(lib.books[3], lib.members[3])\n",
    "lib.issue_book(lib.books[4], lib.members[4])\n",
    "lib.issue_book(lib.books[5], lib.members[5])"
   ]
  },
  {
   "cell_type": "code",
   "execution_count": 176,
   "id": "ba287a9c",
   "metadata": {},
   "outputs": [
    {
     "data": {
      "text/plain": [
       "['Ajay', 'Bhanu', 'Prakash']"
      ]
     },
     "execution_count": 176,
     "metadata": {},
     "output_type": "execute_result"
    }
   ],
   "source": [
    "lib.get_subscribed_members()"
   ]
  },
  {
   "cell_type": "code",
   "execution_count": 177,
   "id": "977de3ea",
   "metadata": {},
   "outputs": [
    {
     "name": "stdout",
     "output_type": "stream",
     "text": [
      "Bhanu didn't borrow Java\n"
     ]
    }
   ],
   "source": [
    "lib.return_book(lib.books[1],lib.members[1])"
   ]
  },
  {
   "cell_type": "code",
   "execution_count": 178,
   "id": "c31003d2",
   "metadata": {},
   "outputs": [
    {
     "name": "stdout",
     "output_type": "stream",
     "text": [
      "SivaRam didn't borrow Automations\n"
     ]
    }
   ],
   "source": [
    "lib.return_book(lib.books[5],lib.members[5])"
   ]
  },
  {
   "cell_type": "code",
   "execution_count": 179,
   "id": "961c379a",
   "metadata": {},
   "outputs": [
    {
     "name": "stdout",
     "output_type": "stream",
     "text": [
      "Available books: ['C', 'DBMS', 'Automations']\n"
     ]
    }
   ],
   "source": [
    "print(f\"Available books: {lib.get_available_books()}\")"
   ]
  },
  {
   "cell_type": "code",
   "execution_count": 180,
   "id": "be1c82f0",
   "metadata": {},
   "outputs": [
    {
     "data": {
      "text/plain": [
       "'Bhanu'"
      ]
     },
     "execution_count": 180,
     "metadata": {},
     "output_type": "execute_result"
    }
   ],
   "source": [
    "lib.get_member_detail(\"5678\")"
   ]
  },
  {
   "cell_type": "code",
   "execution_count": 181,
   "id": "868e0ed2",
   "metadata": {},
   "outputs": [
    {
     "data": {
      "text/plain": [
       "True"
      ]
     },
     "execution_count": 181,
     "metadata": {},
     "output_type": "execute_result"
    }
   ],
   "source": [
    "member = lib.members[4]\n",
    "member.check_subscription()"
   ]
  },
  {
   "cell_type": "code",
   "execution_count": 182,
   "id": "a07192ee",
   "metadata": {},
   "outputs": [
    {
     "data": {
      "text/plain": [
       "{'computer networks'}"
      ]
     },
     "execution_count": 182,
     "metadata": {},
     "output_type": "execute_result"
    }
   ],
   "source": [
    "member = lib.members[4]\n",
    "member.get_borrowed_books()"
   ]
  },
  {
   "cell_type": "code",
   "execution_count": null,
   "id": "b3e20a4b",
   "metadata": {},
   "outputs": [],
   "source": []
  }
 ],
 "metadata": {
  "kernelspec": {
   "display_name": "Python 3 (ipykernel)",
   "language": "python",
   "name": "python3"
  },
  "language_info": {
   "codemirror_mode": {
    "name": "ipython",
    "version": 3
   },
   "file_extension": ".py",
   "mimetype": "text/x-python",
   "name": "python",
   "nbconvert_exporter": "python",
   "pygments_lexer": "ipython3",
   "version": "3.11.0"
  }
 },
 "nbformat": 4,
 "nbformat_minor": 5
}
